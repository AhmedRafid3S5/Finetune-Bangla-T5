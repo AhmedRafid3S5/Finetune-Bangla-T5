{
 "cells": [
  {
   "cell_type": "code",
   "execution_count": null,
   "id": "f38b7e38",
   "metadata": {
    "vscode": {
     "languageId": "plaintext"
    }
   },
   "outputs": [],
   "source": [
    "!pip install numpy"
   ]
  }
 ],
 "metadata": {
  "language_info": {
   "name": "python"
  }
 },
 "nbformat": 4,
 "nbformat_minor": 5
}
